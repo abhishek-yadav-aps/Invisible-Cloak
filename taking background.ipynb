{
 "cells": [
  {
   "cell_type": "code",
   "execution_count": 19,
   "metadata": {},
   "outputs": [],
   "source": [
    "import cv2\n",
    "import numpy as np"
   ]
  },
  {
   "cell_type": "code",
   "execution_count": 20,
   "metadata": {},
   "outputs": [],
   "source": [
    "cap=cv2.VideoCapture(0)\n",
    "while cap.isOpened():\n",
    "    ret, back=cap.read()\n",
    "    if ret:\n",
    "        cv2.imshow(\"BACK\",back)\n",
    "        if cv2.waitKey(5)==ord(\"q\"):\n",
    "            cv2.imwrite(\"backgroud.jpg\",back)\n",
    "            break\n",
    "cap.release()\n",
    "cv2.destroyAllWindows()\n",
    "backer=cv2.imread(\"./backgroud.jpg\")\n"
   ]
  },
  {
   "cell_type": "code",
   "execution_count": 21,
   "metadata": {},
   "outputs": [],
   "source": [
    "cap=cv2.VideoCapture(0)\n",
    "while cap.isOpened():\n",
    "    ret, fra=cap.read()\n",
    "    if ret:\n",
    "        hsv=cv2.cvtColor(fra,cv2.COLOR_BGR2HSV)\n",
    "        #cv2.imshow(\"BACK\",hsv)\n",
    "        l_red=np.array([160,100,100])\n",
    "        u_red=np.array([190,255,255])\n",
    "        mask=cv2.inRange(hsv,l_red,u_red)\n",
    "        #cv2.imshow(\"BACK\",mask)\n",
    "        part1=cv2.bitwise_and(back,back,mask=mask)\n",
    "        part2=cv2.bitwise_and(fra,fra,mask=np.bitwise_not(mask))\n",
    "        kernel = np.ones((5,5),np.uint8)\n",
    "        final=part1+part2\n",
    "        opening = cv2.morphologyEx(final, cv2.MORPH_OPEN, kernel)\n",
    "        closing = cv2.morphologyEx(opening, cv2.MORPH_CLOSE, kernel)\n",
    "        cv2.imshow(\"BACK\",closing)\n",
    "        if cv2.waitKey(5)==ord(\"q\"):\n",
    "            break\n",
    "cap.release()\n",
    "cv2.destroyAllWindows()"
   ]
  },
  {
   "cell_type": "code",
   "execution_count": null,
   "metadata": {},
   "outputs": [],
   "source": []
  }
 ],
 "metadata": {
  "kernelspec": {
   "display_name": "Python 3",
   "language": "python",
   "name": "python3"
  },
  "language_info": {
   "codemirror_mode": {
    "name": "ipython",
    "version": 3
   },
   "file_extension": ".py",
   "mimetype": "text/x-python",
   "name": "python",
   "nbconvert_exporter": "python",
   "pygments_lexer": "ipython3",
   "version": "3.7.6"
  }
 },
 "nbformat": 4,
 "nbformat_minor": 4
}
